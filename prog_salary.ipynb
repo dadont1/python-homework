{
 "cells": [
  {
   "cell_type": "code",
   "execution_count": 49,
   "id": "dcd85756",
   "metadata": {},
   "outputs": [],
   "source": [
    "import numpy as np\n",
    "import pandas as pd  \n",
    "import markdown \n",
    "import scipy.stats\n",
    "import warnings\n",
    "from matplotlib import pyplot as plt\n",
    "warnings.filterwarnings('ignore')\n",
    "pd.options.display.float_format = '{:.4f}'.format\n",
    "\n",
    "#импортируем библиотеки, которые помогут проанализировать данные"
   ]
  },
  {
   "cell_type": "code",
   "execution_count": 50,
   "id": "a4646e65",
   "metadata": {},
   "outputs": [],
   "source": [
    "df_salary = pd.read_csv(\"Downloads/df_salary2.csv\")\n",
    "\n",
    "#импортируем датасет"
   ]
  },
  {
   "cell_type": "code",
   "execution_count": 51,
   "id": "77d50a59",
   "metadata": {},
   "outputs": [
    {
     "data": {
      "text/html": [
       "<div>\n",
       "<style scoped>\n",
       "    .dataframe tbody tr th:only-of-type {\n",
       "        vertical-align: middle;\n",
       "    }\n",
       "\n",
       "    .dataframe tbody tr th {\n",
       "        vertical-align: top;\n",
       "    }\n",
       "\n",
       "    .dataframe thead th {\n",
       "        text-align: right;\n",
       "    }\n",
       "</style>\n",
       "<table border=\"1\" class=\"dataframe\">\n",
       "  <thead>\n",
       "    <tr style=\"text-align: right;\">\n",
       "      <th></th>\n",
       "      <th>Timestamp</th>\n",
       "      <th>Age</th>\n",
       "      <th>Gender</th>\n",
       "      <th>City</th>\n",
       "      <th>Position</th>\n",
       "      <th>Total years of experience</th>\n",
       "      <th>Years of experience in Germany</th>\n",
       "      <th>Seniority level</th>\n",
       "      <th>Your main technology / programming language</th>\n",
       "      <th>Other technologies/programming languages you use often</th>\n",
       "      <th>...</th>\n",
       "      <th>Annual bonus+stocks one year ago. Only answer if staying in same country</th>\n",
       "      <th>Number of vacation days</th>\n",
       "      <th>Employment status</th>\n",
       "      <th>Сontract duration</th>\n",
       "      <th>Main language at work</th>\n",
       "      <th>Company size</th>\n",
       "      <th>Company type</th>\n",
       "      <th>Have you lost your job due to the coronavirus outbreak?</th>\n",
       "      <th>Have you been forced to have a shorter working week (Kurzarbeit)? If yes, how many hours per week</th>\n",
       "      <th>Have you received additional monetary support from your employer due to Work From Home? If yes, how much in 2020 in EUR</th>\n",
       "    </tr>\n",
       "  </thead>\n",
       "  <tbody>\n",
       "    <tr>\n",
       "      <th>0</th>\n",
       "      <td>24/11/2020 11:14:15</td>\n",
       "      <td>26.0000</td>\n",
       "      <td>Male</td>\n",
       "      <td>Munich</td>\n",
       "      <td>Software Engineer</td>\n",
       "      <td>5.0000</td>\n",
       "      <td>3</td>\n",
       "      <td>Senior</td>\n",
       "      <td>TypeScript</td>\n",
       "      <td>Kotlin. Javascript / Typescript</td>\n",
       "      <td>...</td>\n",
       "      <td>10000</td>\n",
       "      <td>30</td>\n",
       "      <td>Full-time employee</td>\n",
       "      <td>Unlimited contract</td>\n",
       "      <td>English</td>\n",
       "      <td>51-100</td>\n",
       "      <td>Product</td>\n",
       "      <td>No</td>\n",
       "      <td>NaN</td>\n",
       "      <td>NaN</td>\n",
       "    </tr>\n",
       "    <tr>\n",
       "      <th>1</th>\n",
       "      <td>24/11/2020 11:14:16</td>\n",
       "      <td>26.0000</td>\n",
       "      <td>Male</td>\n",
       "      <td>Berlin</td>\n",
       "      <td>Backend Developer</td>\n",
       "      <td>7.0000</td>\n",
       "      <td>4</td>\n",
       "      <td>Senior</td>\n",
       "      <td>Ruby</td>\n",
       "      <td>NaN</td>\n",
       "      <td>...</td>\n",
       "      <td>5000</td>\n",
       "      <td>28</td>\n",
       "      <td>Full-time employee</td>\n",
       "      <td>Unlimited contract</td>\n",
       "      <td>English</td>\n",
       "      <td>101-1000</td>\n",
       "      <td>Product</td>\n",
       "      <td>No</td>\n",
       "      <td>NaN</td>\n",
       "      <td>NaN</td>\n",
       "    </tr>\n",
       "    <tr>\n",
       "      <th>2</th>\n",
       "      <td>24/11/2020 11:14:21</td>\n",
       "      <td>29.0000</td>\n",
       "      <td>Male</td>\n",
       "      <td>Berlin</td>\n",
       "      <td>Software Engineer</td>\n",
       "      <td>12.0000</td>\n",
       "      <td>6</td>\n",
       "      <td>Lead</td>\n",
       "      <td>Javascript / Typescript</td>\n",
       "      <td>Javascript / Typescript. Docker</td>\n",
       "      <td>...</td>\n",
       "      <td>100000</td>\n",
       "      <td>30</td>\n",
       "      <td>Self-employed (freelancer)</td>\n",
       "      <td>Temporary contract</td>\n",
       "      <td>English</td>\n",
       "      <td>101-1000</td>\n",
       "      <td>Product</td>\n",
       "      <td>Yes</td>\n",
       "      <td>NaN</td>\n",
       "      <td>NaN</td>\n",
       "    </tr>\n",
       "    <tr>\n",
       "      <th>3</th>\n",
       "      <td>24/11/2020 11:15:24</td>\n",
       "      <td>28.0000</td>\n",
       "      <td>Male</td>\n",
       "      <td>Berlin</td>\n",
       "      <td>Frontend Developer</td>\n",
       "      <td>4.0000</td>\n",
       "      <td>1</td>\n",
       "      <td>Junior</td>\n",
       "      <td>Javascript</td>\n",
       "      <td>NaN</td>\n",
       "      <td>...</td>\n",
       "      <td>NaN</td>\n",
       "      <td>24</td>\n",
       "      <td>Full-time employee</td>\n",
       "      <td>Unlimited contract</td>\n",
       "      <td>English</td>\n",
       "      <td>51-100</td>\n",
       "      <td>Startup</td>\n",
       "      <td>No</td>\n",
       "      <td>NaN</td>\n",
       "      <td>NaN</td>\n",
       "    </tr>\n",
       "    <tr>\n",
       "      <th>4</th>\n",
       "      <td>24/11/2020 11:15:46</td>\n",
       "      <td>37.0000</td>\n",
       "      <td>Male</td>\n",
       "      <td>Berlin</td>\n",
       "      <td>Backend Developer</td>\n",
       "      <td>17.0000</td>\n",
       "      <td>6</td>\n",
       "      <td>Senior</td>\n",
       "      <td>C# .NET</td>\n",
       "      <td>.NET. SQL. AWS. Docker</td>\n",
       "      <td>...</td>\n",
       "      <td>NaN</td>\n",
       "      <td>29</td>\n",
       "      <td>Full-time employee</td>\n",
       "      <td>Unlimited contract</td>\n",
       "      <td>English</td>\n",
       "      <td>101-1000</td>\n",
       "      <td>Product</td>\n",
       "      <td>No</td>\n",
       "      <td>NaN</td>\n",
       "      <td>NaN</td>\n",
       "    </tr>\n",
       "  </tbody>\n",
       "</table>\n",
       "<p>5 rows × 23 columns</p>\n",
       "</div>"
      ],
      "text/plain": [
       "             Timestamp     Age Gender    City            Position  \\\n",
       "0  24/11/2020 11:14:15 26.0000   Male  Munich   Software Engineer   \n",
       "1  24/11/2020 11:14:16 26.0000   Male  Berlin   Backend Developer   \n",
       "2  24/11/2020 11:14:21 29.0000   Male  Berlin   Software Engineer   \n",
       "3  24/11/2020 11:15:24 28.0000   Male  Berlin  Frontend Developer   \n",
       "4  24/11/2020 11:15:46 37.0000   Male  Berlin   Backend Developer   \n",
       "\n",
       "   Total years of experience Years of experience in Germany Seniority level  \\\n",
       "0                     5.0000                              3          Senior   \n",
       "1                     7.0000                              4          Senior   \n",
       "2                    12.0000                              6            Lead   \n",
       "3                     4.0000                              1          Junior   \n",
       "4                    17.0000                              6          Senior   \n",
       "\n",
       "  Your main technology / programming language  \\\n",
       "0                                  TypeScript   \n",
       "1                                        Ruby   \n",
       "2                     Javascript / Typescript   \n",
       "3                                  Javascript   \n",
       "4                                     C# .NET   \n",
       "\n",
       "  Other technologies/programming languages you use often  ...  \\\n",
       "0                    Kotlin. Javascript / Typescript      ...   \n",
       "1                                                NaN      ...   \n",
       "2                    Javascript / Typescript. Docker      ...   \n",
       "3                                                NaN      ...   \n",
       "4                             .NET. SQL. AWS. Docker      ...   \n",
       "\n",
       "   Annual bonus+stocks one year ago. Only answer if staying in same country  \\\n",
       "0                                              10000                          \n",
       "1                                               5000                          \n",
       "2                                             100000                          \n",
       "3                                                NaN                          \n",
       "4                                                NaN                          \n",
       "\n",
       "   Number of vacation days           Employment status   Сontract duration  \\\n",
       "0                       30          Full-time employee  Unlimited contract   \n",
       "1                       28          Full-time employee  Unlimited contract   \n",
       "2                       30  Self-employed (freelancer)  Temporary contract   \n",
       "3                       24          Full-time employee  Unlimited contract   \n",
       "4                       29          Full-time employee  Unlimited contract   \n",
       "\n",
       "  Main language at work Company size Company type  \\\n",
       "0               English       51-100      Product   \n",
       "1               English     101-1000      Product   \n",
       "2               English     101-1000      Product   \n",
       "3               English       51-100      Startup   \n",
       "4               English     101-1000      Product   \n",
       "\n",
       "  Have you lost your job due to the coronavirus outbreak?  \\\n",
       "0                                                 No        \n",
       "1                                                 No        \n",
       "2                                                Yes        \n",
       "3                                                 No        \n",
       "4                                                 No        \n",
       "\n",
       "  Have you been forced to have a shorter working week (Kurzarbeit)? If yes, how many hours per week  \\\n",
       "0                                                NaN                                                  \n",
       "1                                                NaN                                                  \n",
       "2                                                NaN                                                  \n",
       "3                                                NaN                                                  \n",
       "4                                                NaN                                                  \n",
       "\n",
       "  Have you received additional monetary support from your employer due to Work From Home? If yes, how much in 2020 in EUR  \n",
       "0                                                NaN                                                                       \n",
       "1                                                NaN                                                                       \n",
       "2                                                NaN                                                                       \n",
       "3                                                NaN                                                                       \n",
       "4                                                NaN                                                                       \n",
       "\n",
       "[5 rows x 23 columns]"
      ]
     },
     "execution_count": 51,
     "metadata": {},
     "output_type": "execute_result"
    }
   ],
   "source": [
    "df_salary.head()"
   ]
  },
  {
   "cell_type": "code",
   "execution_count": 52,
   "id": "10938914",
   "metadata": {},
   "outputs": [
    {
     "data": {
      "text/html": [
       "<div>\n",
       "<style scoped>\n",
       "    .dataframe tbody tr th:only-of-type {\n",
       "        vertical-align: middle;\n",
       "    }\n",
       "\n",
       "    .dataframe tbody tr th {\n",
       "        vertical-align: top;\n",
       "    }\n",
       "\n",
       "    .dataframe thead th {\n",
       "        text-align: right;\n",
       "    }\n",
       "</style>\n",
       "<table border=\"1\" class=\"dataframe\">\n",
       "  <thead>\n",
       "    <tr style=\"text-align: right;\">\n",
       "      <th></th>\n",
       "      <th>Timestamp</th>\n",
       "      <th>Age</th>\n",
       "      <th>Gender</th>\n",
       "      <th>City</th>\n",
       "      <th>Position</th>\n",
       "      <th>Total years of experience</th>\n",
       "      <th>Years of experience in Germany</th>\n",
       "      <th>Seniority level</th>\n",
       "      <th>Your main technology / programming language</th>\n",
       "      <th>Other technologies/programming languages you use often</th>\n",
       "      <th>...</th>\n",
       "      <th>Annual bonus+stocks one year ago. Only answer if staying in same country</th>\n",
       "      <th>Number of vacation days</th>\n",
       "      <th>Employment status</th>\n",
       "      <th>Сontract duration</th>\n",
       "      <th>Main language at work</th>\n",
       "      <th>Company size</th>\n",
       "      <th>Company type</th>\n",
       "      <th>Have you lost your job due to the coronavirus outbreak?</th>\n",
       "      <th>Have you been forced to have a shorter working week (Kurzarbeit)? If yes, how many hours per week</th>\n",
       "      <th>Have you received additional monetary support from your employer due to Work From Home? If yes, how much in 2020 in EUR</th>\n",
       "    </tr>\n",
       "  </thead>\n",
       "  <tbody>\n",
       "    <tr>\n",
       "      <th>0</th>\n",
       "      <td>24/11/2020 11:14:15</td>\n",
       "      <td>26.0000</td>\n",
       "      <td>Male</td>\n",
       "      <td>Munich</td>\n",
       "      <td>Software Engineer</td>\n",
       "      <td>5.0000</td>\n",
       "      <td>3</td>\n",
       "      <td>Senior</td>\n",
       "      <td>TypeScript</td>\n",
       "      <td>Kotlin. Javascript / Typescript</td>\n",
       "      <td>...</td>\n",
       "      <td>10000</td>\n",
       "      <td>30</td>\n",
       "      <td>Full-time employee</td>\n",
       "      <td>Unlimited contract</td>\n",
       "      <td>English</td>\n",
       "      <td>51-100</td>\n",
       "      <td>Product</td>\n",
       "      <td>No</td>\n",
       "      <td>NaN</td>\n",
       "      <td>NaN</td>\n",
       "    </tr>\n",
       "    <tr>\n",
       "      <th>1</th>\n",
       "      <td>24/11/2020 11:14:16</td>\n",
       "      <td>26.0000</td>\n",
       "      <td>Male</td>\n",
       "      <td>Berlin</td>\n",
       "      <td>Backend Developer</td>\n",
       "      <td>7.0000</td>\n",
       "      <td>4</td>\n",
       "      <td>Senior</td>\n",
       "      <td>Ruby</td>\n",
       "      <td>NaN</td>\n",
       "      <td>...</td>\n",
       "      <td>5000</td>\n",
       "      <td>28</td>\n",
       "      <td>Full-time employee</td>\n",
       "      <td>Unlimited contract</td>\n",
       "      <td>English</td>\n",
       "      <td>101-1000</td>\n",
       "      <td>Product</td>\n",
       "      <td>No</td>\n",
       "      <td>NaN</td>\n",
       "      <td>NaN</td>\n",
       "    </tr>\n",
       "    <tr>\n",
       "      <th>2</th>\n",
       "      <td>24/11/2020 11:14:21</td>\n",
       "      <td>29.0000</td>\n",
       "      <td>Male</td>\n",
       "      <td>Berlin</td>\n",
       "      <td>Software Engineer</td>\n",
       "      <td>12.0000</td>\n",
       "      <td>6</td>\n",
       "      <td>Lead</td>\n",
       "      <td>Javascript / Typescript</td>\n",
       "      <td>Javascript / Typescript. Docker</td>\n",
       "      <td>...</td>\n",
       "      <td>100000</td>\n",
       "      <td>30</td>\n",
       "      <td>Self-employed (freelancer)</td>\n",
       "      <td>Temporary contract</td>\n",
       "      <td>English</td>\n",
       "      <td>101-1000</td>\n",
       "      <td>Product</td>\n",
       "      <td>Yes</td>\n",
       "      <td>NaN</td>\n",
       "      <td>NaN</td>\n",
       "    </tr>\n",
       "  </tbody>\n",
       "</table>\n",
       "<p>3 rows × 23 columns</p>\n",
       "</div>"
      ],
      "text/plain": [
       "             Timestamp     Age Gender    City           Position  \\\n",
       "0  24/11/2020 11:14:15 26.0000   Male  Munich  Software Engineer   \n",
       "1  24/11/2020 11:14:16 26.0000   Male  Berlin  Backend Developer   \n",
       "2  24/11/2020 11:14:21 29.0000   Male  Berlin  Software Engineer   \n",
       "\n",
       "   Total years of experience Years of experience in Germany Seniority level  \\\n",
       "0                     5.0000                              3          Senior   \n",
       "1                     7.0000                              4          Senior   \n",
       "2                    12.0000                              6            Lead   \n",
       "\n",
       "  Your main technology / programming language  \\\n",
       "0                                  TypeScript   \n",
       "1                                        Ruby   \n",
       "2                     Javascript / Typescript   \n",
       "\n",
       "  Other technologies/programming languages you use often  ...  \\\n",
       "0                    Kotlin. Javascript / Typescript      ...   \n",
       "1                                                NaN      ...   \n",
       "2                    Javascript / Typescript. Docker      ...   \n",
       "\n",
       "   Annual bonus+stocks one year ago. Only answer if staying in same country  \\\n",
       "0                                              10000                          \n",
       "1                                               5000                          \n",
       "2                                             100000                          \n",
       "\n",
       "   Number of vacation days           Employment status   Сontract duration  \\\n",
       "0                       30          Full-time employee  Unlimited contract   \n",
       "1                       28          Full-time employee  Unlimited contract   \n",
       "2                       30  Self-employed (freelancer)  Temporary contract   \n",
       "\n",
       "  Main language at work Company size Company type  \\\n",
       "0               English       51-100      Product   \n",
       "1               English     101-1000      Product   \n",
       "2               English     101-1000      Product   \n",
       "\n",
       "  Have you lost your job due to the coronavirus outbreak?  \\\n",
       "0                                                 No        \n",
       "1                                                 No        \n",
       "2                                                Yes        \n",
       "\n",
       "  Have you been forced to have a shorter working week (Kurzarbeit)? If yes, how many hours per week  \\\n",
       "0                                                NaN                                                  \n",
       "1                                                NaN                                                  \n",
       "2                                                NaN                                                  \n",
       "\n",
       "  Have you received additional monetary support from your employer due to Work From Home? If yes, how much in 2020 in EUR  \n",
       "0                                                NaN                                                                       \n",
       "1                                                NaN                                                                       \n",
       "2                                                NaN                                                                       \n",
       "\n",
       "[3 rows x 23 columns]"
      ]
     },
     "execution_count": 52,
     "metadata": {},
     "output_type": "execute_result"
    }
   ],
   "source": [
    "df_salary [:3]\n",
    "\n",
    "#третий шаг - выводим данные "
   ]
  },
  {
   "cell_type": "markdown",
   "id": "2bf33748",
   "metadata": {},
   "source": [
    "Определяем вопрос исследования, он будет звучать так: Правда ли, что мужчины среднего возраста более опытны и больше зарабатывают, чем женщины?"
   ]
  },
  {
   "cell_type": "code",
   "execution_count": 53,
   "id": "a9832694",
   "metadata": {},
   "outputs": [],
   "source": [
    "df_salary = df_salary.drop(columns=['Timestamp', 'Number of vacation days', \"City\", 'Years of experience in Germany', \"Seniority level\",\n",
    "                                    'Have you lost your job due to the coronavirus outbreak?', \"Company type\", \"Company size\", \"Main language at work\",\n",
    "                                    'Your main technology / programming language', 'Other technologies/programming languages you use often', \"Employment status\", \"Сontract duration\",\n",
    "                                    'Have you been forced to have a shorter working week (Kurzarbeit)? If yes, how many hours per week', \n",
    "                                    \"Have you received additional monetary support from your employer due to Work From Home? If yes, how much in 2020 in EUR\", ]) \n",
    "#удаляем столбцы, которые нам больше не понадобятся"
   ]
  },
  {
   "cell_type": "code",
   "execution_count": 54,
   "id": "1a8a2993",
   "metadata": {},
   "outputs": [],
   "source": [
    "df_salary = df_salary.drop(columns=['Annual brutto salary (without bonus and stocks) one year ago. Only answer if staying in the same country', \"Annual bonus+stocks one year ago. Only answer if staying in same country\"]) \n",
    "\n",
    "#удаляем столбцы, которые нам больше не понадобятся"
   ]
  },
  {
   "cell_type": "code",
   "execution_count": 55,
   "id": "3434a600",
   "metadata": {},
   "outputs": [],
   "source": [
    "df_salary_cols =  ['Возраст', 'Пол', 'Должность', 'Лет опыта', \n",
    "            'Годовая зарплата в евро', 'Годовой бонус в евро']\n",
    "#меняем название колонок"
   ]
  },
  {
   "cell_type": "code",
   "execution_count": 56,
   "id": "43d0ed64",
   "metadata": {},
   "outputs": [],
   "source": [
    "df_salary.columns = df_salary_cols"
   ]
  },
  {
   "cell_type": "code",
   "execution_count": 57,
   "id": "03790d3d",
   "metadata": {},
   "outputs": [
    {
     "data": {
      "text/html": [
       "<div>\n",
       "<style scoped>\n",
       "    .dataframe tbody tr th:only-of-type {\n",
       "        vertical-align: middle;\n",
       "    }\n",
       "\n",
       "    .dataframe tbody tr th {\n",
       "        vertical-align: top;\n",
       "    }\n",
       "\n",
       "    .dataframe thead th {\n",
       "        text-align: right;\n",
       "    }\n",
       "</style>\n",
       "<table border=\"1\" class=\"dataframe\">\n",
       "  <thead>\n",
       "    <tr style=\"text-align: right;\">\n",
       "      <th></th>\n",
       "      <th>Возраст</th>\n",
       "      <th>Пол</th>\n",
       "      <th>Должность</th>\n",
       "      <th>Лет опыта</th>\n",
       "      <th>Годовая зарплата в евро</th>\n",
       "      <th>Годовой бонус в евро</th>\n",
       "    </tr>\n",
       "  </thead>\n",
       "  <tbody>\n",
       "    <tr>\n",
       "      <th>0</th>\n",
       "      <td>26.0000</td>\n",
       "      <td>Male</td>\n",
       "      <td>Software Engineer</td>\n",
       "      <td>5.0000</td>\n",
       "      <td>80000.0000</td>\n",
       "      <td>5000.0000</td>\n",
       "    </tr>\n",
       "    <tr>\n",
       "      <th>1</th>\n",
       "      <td>26.0000</td>\n",
       "      <td>Male</td>\n",
       "      <td>Backend Developer</td>\n",
       "      <td>7.0000</td>\n",
       "      <td>80000.0000</td>\n",
       "      <td>NaN</td>\n",
       "    </tr>\n",
       "    <tr>\n",
       "      <th>2</th>\n",
       "      <td>29.0000</td>\n",
       "      <td>Male</td>\n",
       "      <td>Software Engineer</td>\n",
       "      <td>12.0000</td>\n",
       "      <td>120000.0000</td>\n",
       "      <td>120000.0000</td>\n",
       "    </tr>\n",
       "    <tr>\n",
       "      <th>3</th>\n",
       "      <td>28.0000</td>\n",
       "      <td>Male</td>\n",
       "      <td>Frontend Developer</td>\n",
       "      <td>4.0000</td>\n",
       "      <td>54000.0000</td>\n",
       "      <td>NaN</td>\n",
       "    </tr>\n",
       "    <tr>\n",
       "      <th>4</th>\n",
       "      <td>37.0000</td>\n",
       "      <td>Male</td>\n",
       "      <td>Backend Developer</td>\n",
       "      <td>17.0000</td>\n",
       "      <td>62000.0000</td>\n",
       "      <td>NaN</td>\n",
       "    </tr>\n",
       "    <tr>\n",
       "      <th>...</th>\n",
       "      <td>...</td>\n",
       "      <td>...</td>\n",
       "      <td>...</td>\n",
       "      <td>...</td>\n",
       "      <td>...</td>\n",
       "      <td>...</td>\n",
       "    </tr>\n",
       "    <tr>\n",
       "      <th>1248</th>\n",
       "      <td>31.0000</td>\n",
       "      <td>Male</td>\n",
       "      <td>Backend Developer</td>\n",
       "      <td>9.0000</td>\n",
       "      <td>70000.0000</td>\n",
       "      <td>72000.0000</td>\n",
       "    </tr>\n",
       "    <tr>\n",
       "      <th>1249</th>\n",
       "      <td>33.0000</td>\n",
       "      <td>Male</td>\n",
       "      <td>Researcher/ Consumer Insights Analyst</td>\n",
       "      <td>10.0000</td>\n",
       "      <td>60000.0000</td>\n",
       "      <td>3000.0000</td>\n",
       "    </tr>\n",
       "    <tr>\n",
       "      <th>1250</th>\n",
       "      <td>39.0000</td>\n",
       "      <td>Male</td>\n",
       "      <td>IT Operations Manager</td>\n",
       "      <td>15.0000</td>\n",
       "      <td>110000.0000</td>\n",
       "      <td>0.0000</td>\n",
       "    </tr>\n",
       "    <tr>\n",
       "      <th>1251</th>\n",
       "      <td>26.0000</td>\n",
       "      <td>Male</td>\n",
       "      <td>Frontend Developer</td>\n",
       "      <td>7.0000</td>\n",
       "      <td>38350.0000</td>\n",
       "      <td>40950.0000</td>\n",
       "    </tr>\n",
       "    <tr>\n",
       "      <th>1252</th>\n",
       "      <td>26.0000</td>\n",
       "      <td>Male</td>\n",
       "      <td>DevOps</td>\n",
       "      <td>2.0000</td>\n",
       "      <td>65000.0000</td>\n",
       "      <td>6500.0000</td>\n",
       "    </tr>\n",
       "  </tbody>\n",
       "</table>\n",
       "<p>1253 rows × 6 columns</p>\n",
       "</div>"
      ],
      "text/plain": [
       "      Возраст   Пол                              Должность  Лет опыта  \\\n",
       "0     26.0000  Male                      Software Engineer     5.0000   \n",
       "1     26.0000  Male                      Backend Developer     7.0000   \n",
       "2     29.0000  Male                      Software Engineer    12.0000   \n",
       "3     28.0000  Male                     Frontend Developer     4.0000   \n",
       "4     37.0000  Male                      Backend Developer    17.0000   \n",
       "...       ...   ...                                    ...        ...   \n",
       "1248  31.0000  Male                      Backend Developer     9.0000   \n",
       "1249  33.0000  Male  Researcher/ Consumer Insights Analyst    10.0000   \n",
       "1250  39.0000  Male                  IT Operations Manager    15.0000   \n",
       "1251  26.0000  Male                     Frontend Developer     7.0000   \n",
       "1252  26.0000  Male                                 DevOps     2.0000   \n",
       "\n",
       "      Годовая зарплата в евро  Годовой бонус в евро  \n",
       "0                  80000.0000             5000.0000  \n",
       "1                  80000.0000                   NaN  \n",
       "2                 120000.0000           120000.0000  \n",
       "3                  54000.0000                   NaN  \n",
       "4                  62000.0000                   NaN  \n",
       "...                       ...                   ...  \n",
       "1248               70000.0000            72000.0000  \n",
       "1249               60000.0000             3000.0000  \n",
       "1250              110000.0000                0.0000  \n",
       "1251               38350.0000            40950.0000  \n",
       "1252               65000.0000             6500.0000  \n",
       "\n",
       "[1253 rows x 6 columns]"
      ]
     },
     "execution_count": 57,
     "metadata": {},
     "output_type": "execute_result"
    }
   ],
   "source": [
    "df_salary"
   ]
  },
  {
   "cell_type": "code",
   "execution_count": 58,
   "id": "8753568f",
   "metadata": {},
   "outputs": [
    {
     "data": {
      "text/plain": [
       "<AxesSubplot:>"
      ]
     },
     "execution_count": 58,
     "metadata": {},
     "output_type": "execute_result"
    },
    {
     "data": {
      "image/png": "[encoded data removed]",
      "text/plain": [
       "<Figure size 432x288 with 1 Axes>"
      ]
     },
     "metadata": {
      "needs_background": "light"
     },
     "output_type": "display_data"
    }
   ],
   "source": [
    "df_salary['Возраст'].hist()"
   ]
  },
  {
   "cell_type": "code",
   "execution_count": 59,
   "id": "3ae051ff",
   "metadata": {},
   "outputs": [],
   "source": [
    "def get_age_cat(age):\n",
    "    if age < 25:\n",
    "        return 'Очень Молодой'\n",
    "    elif 25 <= age < 30:\n",
    "        return 'Молодой'\n",
    "    elif 30 <= age < 40:\n",
    "        return 'Средний'\n",
    "    elif 40 <= age < 50:\n",
    "        return 'Взрослый'\n",
    "    elif age >= 50:\n",
    "        return 'Очень взрослый'\n",
    "    else:\n",
    "        return age\n",
    "#вводим новую переменную и определяем ее значения"
   ]
  },
  {
   "cell_type": "code",
   "execution_count": 60,
   "id": "ee3f2f22",
   "metadata": {},
   "outputs": [],
   "source": [
    "df_salary['Возраст_кат'] = df_salary['Возраст'].apply(get_age_cat)"
   ]
  },
  {
   "cell_type": "code",
   "execution_count": 61,
   "id": "d3223729",
   "metadata": {},
   "outputs": [],
   "source": [
    "df_salary['Возраст_кат'] = pd.Categorical(df_salary['Возраст_кат'])\n",
    "#делаем переменную категориальной"
   ]
  },
  {
   "cell_type": "code",
   "execution_count": 62,
   "id": "53e5fb94",
   "metadata": {},
   "outputs": [
    {
     "data": {
      "text/plain": [
       "10.0000     138\n",
       "5.0000      136\n",
       "6.0000      100\n",
       "8.0000       92\n",
       "7.0000       84\n",
       "4.0000       80\n",
       "12.0000      67\n",
       "3.0000       66\n",
       "15.0000      64\n",
       "9.0000       60\n",
       "2.0000       57\n",
       "11.0000      43\n",
       "13.0000      41\n",
       "14.0000      39\n",
       "1.0000       32\n",
       "20.0000      28\n",
       "16.0000      20\n",
       "18.0000      16\n",
       "17.0000      12\n",
       "19.0000       7\n",
       "25.0000       7\n",
       "0.0000        6\n",
       "22.0000       5\n",
       "2.5000        5\n",
       "30.0000       4\n",
       "1.5000        4\n",
       "21.0000       3\n",
       "23.0000       2\n",
       "27.0000       2\n",
       "4.5000        2\n",
       "3.5000        2\n",
       "0.8000        2\n",
       "26.0000       1\n",
       "6.5000        1\n",
       "28.0000       1\n",
       "29.0000       1\n",
       "24.0000       1\n",
       "5.5000        1\n",
       "40.0000       1\n",
       "31.0000       1\n",
       "383.0000      1\n",
       "7.5000        1\n",
       "Name: Лет опыта, dtype: int64"
      ]
     },
     "execution_count": 62,
     "metadata": {},
     "output_type": "execute_result"
    }
   ],
   "source": [
    "df_salary['Лет опыта'].value_counts()"
   ]
  },
  {
   "cell_type": "code",
   "execution_count": 63,
   "id": "9f805635",
   "metadata": {},
   "outputs": [],
   "source": [
    "def get_exp_cat(exp):\n",
    "    if exp < 3:\n",
    "        return 'Очень мало опыта'\n",
    "    elif 3 <= exp < 5:\n",
    "        return 'Мало опыта'\n",
    "    elif 5 <= exp <= 10:\n",
    "        return 'Средний опыт'\n",
    "    elif 10 < exp <= 15:\n",
    "        return 'Много опыта'\n",
    "    elif exp >= 15:\n",
    "        return 'Очень опытный'\n",
    "    else:\n",
    "        return exp\n",
    "#вводим новую переменную и определяем ее значения"
   ]
  },
  {
   "cell_type": "code",
   "execution_count": 64,
   "id": "859d84b0",
   "metadata": {},
   "outputs": [],
   "source": [
    "df_salary['Лет опыта_кат'] = df_salary['Лет опыта'].apply(get_exp_cat)"
   ]
  },
  {
   "cell_type": "code",
   "execution_count": 65,
   "id": "9ed9cd48",
   "metadata": {},
   "outputs": [],
   "source": [
    "df_salary['Лет опыта_кат'] = pd.Categorical(df_salary['Лет опыта_кат'])\n",
    "#делаем переменную категориальной"
   ]
  },
  {
   "cell_type": "code",
   "execution_count": 66,
   "id": "f50bb7fd",
   "metadata": {},
   "outputs": [],
   "source": [
    "df_salary['Общий доход за год в евро'] = df_salary.loc[:,['Годовая зарплата в евро','Годовой бонус в евро']].sum(axis=1)\n",
    "\n",
    "#складываем данные из двух столбцов, чтобы получить общий доход за год"
   ]
  },
  {
   "cell_type": "code",
   "execution_count": 67,
   "id": "155fe840",
   "metadata": {},
   "outputs": [],
   "source": [
    "def get_slr_cat(slr):\n",
    "    if slr < 30000:\n",
    "        return 'Очень маленький доход'\n",
    "    elif 30000 <= slr < 50000:\n",
    "        return 'Маленький доход'\n",
    "    elif 50000 <= slr <= 75000:\n",
    "        return 'Средний доход'\n",
    "    elif 75000 < slr <= 100000:\n",
    "        return 'Доход выше среднего'\n",
    "    elif 100000 < slr <= 150000:\n",
    "        return 'Высокий доход'\n",
    "    elif slr >= 150000:\n",
    "        return 'Очень высокий доход'\n",
    "    else:\n",
    "        return slr\n",
    "#вводим новую переменную и определяем ее значения"
   ]
  },
  {
   "cell_type": "code",
   "execution_count": 68,
   "id": "8a9bd5df",
   "metadata": {},
   "outputs": [],
   "source": [
    "df_salary['Общий доход в евро за год_кат'] = df_salary['Общий доход за год в евро'].apply(get_slr_cat)\n",
    "#деляем переменную категориальной"
   ]
  },
  {
   "cell_type": "code",
   "execution_count": 69,
   "id": "6ac6177c",
   "metadata": {},
   "outputs": [
    {
     "data": {
      "text/html": [
       "<div>\n",
       "<style scoped>\n",
       "    .dataframe tbody tr th:only-of-type {\n",
       "        vertical-align: middle;\n",
       "    }\n",
       "\n",
       "    .dataframe tbody tr th {\n",
       "        vertical-align: top;\n",
       "    }\n",
       "\n",
       "    .dataframe thead th {\n",
       "        text-align: right;\n",
       "    }\n",
       "</style>\n",
       "<table border=\"1\" class=\"dataframe\">\n",
       "  <thead>\n",
       "    <tr style=\"text-align: right;\">\n",
       "      <th></th>\n",
       "      <th>Возраст</th>\n",
       "      <th>Пол</th>\n",
       "      <th>Должность</th>\n",
       "      <th>Лет опыта</th>\n",
       "      <th>Годовая зарплата в евро</th>\n",
       "      <th>Годовой бонус в евро</th>\n",
       "      <th>Возраст_кат</th>\n",
       "      <th>Лет опыта_кат</th>\n",
       "      <th>Общий доход за год в евро</th>\n",
       "      <th>Общий доход в евро за год_кат</th>\n",
       "    </tr>\n",
       "  </thead>\n",
       "  <tbody>\n",
       "    <tr>\n",
       "      <th>0</th>\n",
       "      <td>26.0000</td>\n",
       "      <td>Male</td>\n",
       "      <td>Software Engineer</td>\n",
       "      <td>5.0000</td>\n",
       "      <td>80000.0000</td>\n",
       "      <td>5000.0000</td>\n",
       "      <td>Молодой</td>\n",
       "      <td>Средний опыт</td>\n",
       "      <td>85000.0000</td>\n",
       "      <td>Доход выше среднего</td>\n",
       "    </tr>\n",
       "    <tr>\n",
       "      <th>1</th>\n",
       "      <td>26.0000</td>\n",
       "      <td>Male</td>\n",
       "      <td>Backend Developer</td>\n",
       "      <td>7.0000</td>\n",
       "      <td>80000.0000</td>\n",
       "      <td>NaN</td>\n",
       "      <td>Молодой</td>\n",
       "      <td>Средний опыт</td>\n",
       "      <td>80000.0000</td>\n",
       "      <td>Доход выше среднего</td>\n",
       "    </tr>\n",
       "    <tr>\n",
       "      <th>2</th>\n",
       "      <td>29.0000</td>\n",
       "      <td>Male</td>\n",
       "      <td>Software Engineer</td>\n",
       "      <td>12.0000</td>\n",
       "      <td>120000.0000</td>\n",
       "      <td>120000.0000</td>\n",
       "      <td>Молодой</td>\n",
       "      <td>Много опыта</td>\n",
       "      <td>240000.0000</td>\n",
       "      <td>Очень высокий доход</td>\n",
       "    </tr>\n",
       "    <tr>\n",
       "      <th>3</th>\n",
       "      <td>28.0000</td>\n",
       "      <td>Male</td>\n",
       "      <td>Frontend Developer</td>\n",
       "      <td>4.0000</td>\n",
       "      <td>54000.0000</td>\n",
       "      <td>NaN</td>\n",
       "      <td>Молодой</td>\n",
       "      <td>Мало опыта</td>\n",
       "      <td>54000.0000</td>\n",
       "      <td>Средний доход</td>\n",
       "    </tr>\n",
       "    <tr>\n",
       "      <th>4</th>\n",
       "      <td>37.0000</td>\n",
       "      <td>Male</td>\n",
       "      <td>Backend Developer</td>\n",
       "      <td>17.0000</td>\n",
       "      <td>62000.0000</td>\n",
       "      <td>NaN</td>\n",
       "      <td>Средний</td>\n",
       "      <td>Очень опытный</td>\n",
       "      <td>62000.0000</td>\n",
       "      <td>Средний доход</td>\n",
       "    </tr>\n",
       "    <tr>\n",
       "      <th>...</th>\n",
       "      <td>...</td>\n",
       "      <td>...</td>\n",
       "      <td>...</td>\n",
       "      <td>...</td>\n",
       "      <td>...</td>\n",
       "      <td>...</td>\n",
       "      <td>...</td>\n",
       "      <td>...</td>\n",
       "      <td>...</td>\n",
       "      <td>...</td>\n",
       "    </tr>\n",
       "    <tr>\n",
       "      <th>1248</th>\n",
       "      <td>31.0000</td>\n",
       "      <td>Male</td>\n",
       "      <td>Backend Developer</td>\n",
       "      <td>9.0000</td>\n",
       "      <td>70000.0000</td>\n",
       "      <td>72000.0000</td>\n",
       "      <td>Средний</td>\n",
       "      <td>Средний опыт</td>\n",
       "      <td>142000.0000</td>\n",
       "      <td>Высокий доход</td>\n",
       "    </tr>\n",
       "    <tr>\n",
       "      <th>1249</th>\n",
       "      <td>33.0000</td>\n",
       "      <td>Male</td>\n",
       "      <td>Researcher/ Consumer Insights Analyst</td>\n",
       "      <td>10.0000</td>\n",
       "      <td>60000.0000</td>\n",
       "      <td>3000.0000</td>\n",
       "      <td>Средний</td>\n",
       "      <td>Средний опыт</td>\n",
       "      <td>63000.0000</td>\n",
       "      <td>Средний доход</td>\n",
       "    </tr>\n",
       "    <tr>\n",
       "      <th>1250</th>\n",
       "      <td>39.0000</td>\n",
       "      <td>Male</td>\n",
       "      <td>IT Operations Manager</td>\n",
       "      <td>15.0000</td>\n",
       "      <td>110000.0000</td>\n",
       "      <td>0.0000</td>\n",
       "      <td>Средний</td>\n",
       "      <td>Много опыта</td>\n",
       "      <td>110000.0000</td>\n",
       "      <td>Высокий доход</td>\n",
       "    </tr>\n",
       "    <tr>\n",
       "      <th>1251</th>\n",
       "      <td>26.0000</td>\n",
       "      <td>Male</td>\n",
       "      <td>Frontend Developer</td>\n",
       "      <td>7.0000</td>\n",
       "      <td>38350.0000</td>\n",
       "      <td>40950.0000</td>\n",
       "      <td>Молодой</td>\n",
       "      <td>Средний опыт</td>\n",
       "      <td>79300.0000</td>\n",
       "      <td>Доход выше среднего</td>\n",
       "    </tr>\n",
       "    <tr>\n",
       "      <th>1252</th>\n",
       "      <td>26.0000</td>\n",
       "      <td>Male</td>\n",
       "      <td>DevOps</td>\n",
       "      <td>2.0000</td>\n",
       "      <td>65000.0000</td>\n",
       "      <td>6500.0000</td>\n",
       "      <td>Молодой</td>\n",
       "      <td>Очень мало опыта</td>\n",
       "      <td>71500.0000</td>\n",
       "      <td>Средний доход</td>\n",
       "    </tr>\n",
       "  </tbody>\n",
       "</table>\n",
       "<p>1253 rows × 10 columns</p>\n",
       "</div>"
      ],
      "text/plain": [
       "      Возраст   Пол                              Должность  Лет опыта  \\\n",
       "0     26.0000  Male                      Software Engineer     5.0000   \n",
       "1     26.0000  Male                      Backend Developer     7.0000   \n",
       "2     29.0000  Male                      Software Engineer    12.0000   \n",
       "3     28.0000  Male                     Frontend Developer     4.0000   \n",
       "4     37.0000  Male                      Backend Developer    17.0000   \n",
       "...       ...   ...                                    ...        ...   \n",
       "1248  31.0000  Male                      Backend Developer     9.0000   \n",
       "1249  33.0000  Male  Researcher/ Consumer Insights Analyst    10.0000   \n",
       "1250  39.0000  Male                  IT Operations Manager    15.0000   \n",
       "1251  26.0000  Male                     Frontend Developer     7.0000   \n",
       "1252  26.0000  Male                                 DevOps     2.0000   \n",
       "\n",
       "      Годовая зарплата в евро  Годовой бонус в евро Возраст_кат  \\\n",
       "0                  80000.0000             5000.0000     Молодой   \n",
       "1                  80000.0000                   NaN     Молодой   \n",
       "2                 120000.0000           120000.0000     Молодой   \n",
       "3                  54000.0000                   NaN     Молодой   \n",
       "4                  62000.0000                   NaN     Средний   \n",
       "...                       ...                   ...         ...   \n",
       "1248               70000.0000            72000.0000     Средний   \n",
       "1249               60000.0000             3000.0000     Средний   \n",
       "1250              110000.0000                0.0000     Средний   \n",
       "1251               38350.0000            40950.0000     Молодой   \n",
       "1252               65000.0000             6500.0000     Молодой   \n",
       "\n",
       "         Лет опыта_кат  Общий доход за год в евро  \\\n",
       "0         Средний опыт                 85000.0000   \n",
       "1         Средний опыт                 80000.0000   \n",
       "2          Много опыта                240000.0000   \n",
       "3           Мало опыта                 54000.0000   \n",
       "4        Очень опытный                 62000.0000   \n",
       "...                ...                        ...   \n",
       "1248      Средний опыт                142000.0000   \n",
       "1249      Средний опыт                 63000.0000   \n",
       "1250       Много опыта                110000.0000   \n",
       "1251      Средний опыт                 79300.0000   \n",
       "1252  Очень мало опыта                 71500.0000   \n",
       "\n",
       "     Общий доход в евро за год_кат  \n",
       "0              Доход выше среднего  \n",
       "1              Доход выше среднего  \n",
       "2              Очень высокий доход  \n",
       "3                    Средний доход  \n",
       "4                    Средний доход  \n",
       "...                            ...  \n",
       "1248                 Высокий доход  \n",
       "1249                 Средний доход  \n",
       "1250                 Высокий доход  \n",
       "1251           Доход выше среднего  \n",
       "1252                 Средний доход  \n",
       "\n",
       "[1253 rows x 10 columns]"
      ]
     },
     "execution_count": 69,
     "metadata": {},
     "output_type": "execute_result"
    }
   ],
   "source": [
    "df_salary"
   ]
  },
  {
   "cell_type": "code",
   "execution_count": 70,
   "id": "9b37c543",
   "metadata": {},
   "outputs": [],
   "source": [
    "df_salary['Общий доход в евро за год_кат'] = pd.Categorical(df_salary['Общий доход в евро за год_кат'])\n",
    "#делаем переменную категориальной"
   ]
  },
  {
   "cell_type": "code",
   "execution_count": 71,
   "id": "512da50b",
   "metadata": {},
   "outputs": [
    {
     "name": "stdout",
     "output_type": "stream",
     "text": [
      "<class 'pandas.core.frame.DataFrame'>\n",
      "RangeIndex: 1253 entries, 0 to 1252\n",
      "Data columns (total 10 columns):\n",
      " #   Column                         Non-Null Count  Dtype   \n",
      "---  ------                         --------------  -----   \n",
      " 0   Возраст                        1226 non-null   float64 \n",
      " 1   Пол                            1243 non-null   object  \n",
      " 2   Должность                      1247 non-null   object  \n",
      " 3   Лет опыта                      1236 non-null   float64 \n",
      " 4   Годовая зарплата в евро        1252 non-null   float64 \n",
      " 5   Годовой бонус в евро           824 non-null    float64 \n",
      " 6   Возраст_кат                    1226 non-null   category\n",
      " 7   Лет опыта_кат                  1236 non-null   category\n",
      " 8   Общий доход за год в евро      1253 non-null   float64 \n",
      " 9   Общий доход в евро за год_кат  1253 non-null   category\n",
      "dtypes: category(3), float64(5), object(2)\n",
      "memory usage: 72.9+ KB\n"
     ]
    }
   ],
   "source": [
    "df_salary.info()"
   ]
  },
  {
   "cell_type": "code",
   "execution_count": 72,
   "id": "533d193f",
   "metadata": {},
   "outputs": [],
   "source": [
    "df_salary['Пол'] = df_salary['Пол'].replace({'Male': 'Мужчина'}, regex=True)\n",
    "df_salary['Пол'] = df_salary['Пол'].replace({'Female': 'Женщина'}, regex=True)\n",
    "df_salary['Пол'] = df_salary['Пол'].replace({'Diverse': 'Другое'}, regex=True)\n",
    "#меняем название ответов в значениях строки"
   ]
  },
  {
   "cell_type": "code",
   "execution_count": 73,
   "id": "f124488b",
   "metadata": {},
   "outputs": [],
   "source": [
    "df_salary['Пол'] = pd.Categorical(df_salary['Пол'])\n",
    "#делаем переменную категориальной"
   ]
  },
  {
   "cell_type": "code",
   "execution_count": 74,
   "id": "ac99afbb",
   "metadata": {},
   "outputs": [
    {
     "data": {
      "text/html": [
       "<div>\n",
       "<style scoped>\n",
       "    .dataframe tbody tr th:only-of-type {\n",
       "        vertical-align: middle;\n",
       "    }\n",
       "\n",
       "    .dataframe tbody tr th {\n",
       "        vertical-align: top;\n",
       "    }\n",
       "\n",
       "    .dataframe thead th {\n",
       "        text-align: right;\n",
       "    }\n",
       "</style>\n",
       "<table border=\"1\" class=\"dataframe\">\n",
       "  <thead>\n",
       "    <tr style=\"text-align: right;\">\n",
       "      <th></th>\n",
       "      <th>Возраст</th>\n",
       "      <th>Пол</th>\n",
       "      <th>Должность</th>\n",
       "      <th>Лет опыта</th>\n",
       "      <th>Годовая зарплата в евро</th>\n",
       "      <th>Годовой бонус в евро</th>\n",
       "      <th>Возраст_кат</th>\n",
       "      <th>Лет опыта_кат</th>\n",
       "      <th>Общий доход за год в евро</th>\n",
       "      <th>Общий доход в евро за год_кат</th>\n",
       "    </tr>\n",
       "  </thead>\n",
       "  <tbody>\n",
       "    <tr>\n",
       "      <th>0</th>\n",
       "      <td>26.0000</td>\n",
       "      <td>Мужчина</td>\n",
       "      <td>Software Engineer</td>\n",
       "      <td>5.0000</td>\n",
       "      <td>80000.0000</td>\n",
       "      <td>5000.0000</td>\n",
       "      <td>Молодой</td>\n",
       "      <td>Средний опыт</td>\n",
       "      <td>85000.0000</td>\n",
       "      <td>Доход выше среднего</td>\n",
       "    </tr>\n",
       "    <tr>\n",
       "      <th>1</th>\n",
       "      <td>26.0000</td>\n",
       "      <td>Мужчина</td>\n",
       "      <td>Backend Developer</td>\n",
       "      <td>7.0000</td>\n",
       "      <td>80000.0000</td>\n",
       "      <td>NaN</td>\n",
       "      <td>Молодой</td>\n",
       "      <td>Средний опыт</td>\n",
       "      <td>80000.0000</td>\n",
       "      <td>Доход выше среднего</td>\n",
       "    </tr>\n",
       "    <tr>\n",
       "      <th>2</th>\n",
       "      <td>29.0000</td>\n",
       "      <td>Мужчина</td>\n",
       "      <td>Software Engineer</td>\n",
       "      <td>12.0000</td>\n",
       "      <td>120000.0000</td>\n",
       "      <td>120000.0000</td>\n",
       "      <td>Молодой</td>\n",
       "      <td>Много опыта</td>\n",
       "      <td>240000.0000</td>\n",
       "      <td>Очень высокий доход</td>\n",
       "    </tr>\n",
       "    <tr>\n",
       "      <th>3</th>\n",
       "      <td>28.0000</td>\n",
       "      <td>Мужчина</td>\n",
       "      <td>Frontend Developer</td>\n",
       "      <td>4.0000</td>\n",
       "      <td>54000.0000</td>\n",
       "      <td>NaN</td>\n",
       "      <td>Молодой</td>\n",
       "      <td>Мало опыта</td>\n",
       "      <td>54000.0000</td>\n",
       "      <td>Средний доход</td>\n",
       "    </tr>\n",
       "    <tr>\n",
       "      <th>4</th>\n",
       "      <td>37.0000</td>\n",
       "      <td>Мужчина</td>\n",
       "      <td>Backend Developer</td>\n",
       "      <td>17.0000</td>\n",
       "      <td>62000.0000</td>\n",
       "      <td>NaN</td>\n",
       "      <td>Средний</td>\n",
       "      <td>Очень опытный</td>\n",
       "      <td>62000.0000</td>\n",
       "      <td>Средний доход</td>\n",
       "    </tr>\n",
       "    <tr>\n",
       "      <th>...</th>\n",
       "      <td>...</td>\n",
       "      <td>...</td>\n",
       "      <td>...</td>\n",
       "      <td>...</td>\n",
       "      <td>...</td>\n",
       "      <td>...</td>\n",
       "      <td>...</td>\n",
       "      <td>...</td>\n",
       "      <td>...</td>\n",
       "      <td>...</td>\n",
       "    </tr>\n",
       "    <tr>\n",
       "      <th>1248</th>\n",
       "      <td>31.0000</td>\n",
       "      <td>Мужчина</td>\n",
       "      <td>Backend Developer</td>\n",
       "      <td>9.0000</td>\n",
       "      <td>70000.0000</td>\n",
       "      <td>72000.0000</td>\n",
       "      <td>Средний</td>\n",
       "      <td>Средний опыт</td>\n",
       "      <td>142000.0000</td>\n",
       "      <td>Высокий доход</td>\n",
       "    </tr>\n",
       "    <tr>\n",
       "      <th>1249</th>\n",
       "      <td>33.0000</td>\n",
       "      <td>Мужчина</td>\n",
       "      <td>Researcher/ Consumer Insights Analyst</td>\n",
       "      <td>10.0000</td>\n",
       "      <td>60000.0000</td>\n",
       "      <td>3000.0000</td>\n",
       "      <td>Средний</td>\n",
       "      <td>Средний опыт</td>\n",
       "      <td>63000.0000</td>\n",
       "      <td>Средний доход</td>\n",
       "    </tr>\n",
       "    <tr>\n",
       "      <th>1250</th>\n",
       "      <td>39.0000</td>\n",
       "      <td>Мужчина</td>\n",
       "      <td>IT Operations Manager</td>\n",
       "      <td>15.0000</td>\n",
       "      <td>110000.0000</td>\n",
       "      <td>0.0000</td>\n",
       "      <td>Средний</td>\n",
       "      <td>Много опыта</td>\n",
       "      <td>110000.0000</td>\n",
       "      <td>Высокий доход</td>\n",
       "    </tr>\n",
       "    <tr>\n",
       "      <th>1251</th>\n",
       "      <td>26.0000</td>\n",
       "      <td>Мужчина</td>\n",
       "      <td>Frontend Developer</td>\n",
       "      <td>7.0000</td>\n",
       "      <td>38350.0000</td>\n",
       "      <td>40950.0000</td>\n",
       "      <td>Молодой</td>\n",
       "      <td>Средний опыт</td>\n",
       "      <td>79300.0000</td>\n",
       "      <td>Доход выше среднего</td>\n",
       "    </tr>\n",
       "    <tr>\n",
       "      <th>1252</th>\n",
       "      <td>26.0000</td>\n",
       "      <td>Мужчина</td>\n",
       "      <td>DevOps</td>\n",
       "      <td>2.0000</td>\n",
       "      <td>65000.0000</td>\n",
       "      <td>6500.0000</td>\n",
       "      <td>Молодой</td>\n",
       "      <td>Очень мало опыта</td>\n",
       "      <td>71500.0000</td>\n",
       "      <td>Средний доход</td>\n",
       "    </tr>\n",
       "  </tbody>\n",
       "</table>\n",
       "<p>1253 rows × 10 columns</p>\n",
       "</div>"
      ],
      "text/plain": [
       "      Возраст      Пол                              Должность  Лет опыта  \\\n",
       "0     26.0000  Мужчина                      Software Engineer     5.0000   \n",
       "1     26.0000  Мужчина                      Backend Developer     7.0000   \n",
       "2     29.0000  Мужчина                      Software Engineer    12.0000   \n",
       "3     28.0000  Мужчина                     Frontend Developer     4.0000   \n",
       "4     37.0000  Мужчина                      Backend Developer    17.0000   \n",
       "...       ...      ...                                    ...        ...   \n",
       "1248  31.0000  Мужчина                      Backend Developer     9.0000   \n",
       "1249  33.0000  Мужчина  Researcher/ Consumer Insights Analyst    10.0000   \n",
       "1250  39.0000  Мужчина                  IT Operations Manager    15.0000   \n",
       "1251  26.0000  Мужчина                     Frontend Developer     7.0000   \n",
       "1252  26.0000  Мужчина                                 DevOps     2.0000   \n",
       "\n",
       "      Годовая зарплата в евро  Годовой бонус в евро Возраст_кат  \\\n",
       "0                  80000.0000             5000.0000     Молодой   \n",
       "1                  80000.0000                   NaN     Молодой   \n",
       "2                 120000.0000           120000.0000     Молодой   \n",
       "3                  54000.0000                   NaN     Молодой   \n",
       "4                  62000.0000                   NaN     Средний   \n",
       "...                       ...                   ...         ...   \n",
       "1248               70000.0000            72000.0000     Средний   \n",
       "1249               60000.0000             3000.0000     Средний   \n",
       "1250              110000.0000                0.0000     Средний   \n",
       "1251               38350.0000            40950.0000     Молодой   \n",
       "1252               65000.0000             6500.0000     Молодой   \n",
       "\n",
       "         Лет опыта_кат  Общий доход за год в евро  \\\n",
       "0         Средний опыт                 85000.0000   \n",
       "1         Средний опыт                 80000.0000   \n",
       "2          Много опыта                240000.0000   \n",
       "3           Мало опыта                 54000.0000   \n",
       "4        Очень опытный                 62000.0000   \n",
       "...                ...                        ...   \n",
       "1248      Средний опыт                142000.0000   \n",
       "1249      Средний опыт                 63000.0000   \n",
       "1250       Много опыта                110000.0000   \n",
       "1251      Средний опыт                 79300.0000   \n",
       "1252  Очень мало опыта                 71500.0000   \n",
       "\n",
       "     Общий доход в евро за год_кат  \n",
       "0              Доход выше среднего  \n",
       "1              Доход выше среднего  \n",
       "2              Очень высокий доход  \n",
       "3                    Средний доход  \n",
       "4                    Средний доход  \n",
       "...                            ...  \n",
       "1248                 Высокий доход  \n",
       "1249                 Средний доход  \n",
       "1250                 Высокий доход  \n",
       "1251           Доход выше среднего  \n",
       "1252                 Средний доход  \n",
       "\n",
       "[1253 rows x 10 columns]"
      ]
     },
     "execution_count": 74,
     "metadata": {},
     "output_type": "execute_result"
    }
   ],
   "source": [
    "df_salary"
   ]
  },
  {
   "cell_type": "code",
   "execution_count": 75,
   "id": "edd06170",
   "metadata": {},
   "outputs": [
    {
     "name": "stdout",
     "output_type": "stream",
     "text": [
      "<class 'pandas.core.frame.DataFrame'>\n",
      "RangeIndex: 1253 entries, 0 to 1252\n",
      "Data columns (total 10 columns):\n",
      " #   Column                         Non-Null Count  Dtype   \n",
      "---  ------                         --------------  -----   \n",
      " 0   Возраст                        1226 non-null   float64 \n",
      " 1   Пол                            1243 non-null   category\n",
      " 2   Должность                      1247 non-null   object  \n",
      " 3   Лет опыта                      1236 non-null   float64 \n",
      " 4   Годовая зарплата в евро        1252 non-null   float64 \n",
      " 5   Годовой бонус в евро           824 non-null    float64 \n",
      " 6   Возраст_кат                    1226 non-null   category\n",
      " 7   Лет опыта_кат                  1236 non-null   category\n",
      " 8   Общий доход за год в евро      1253 non-null   float64 \n",
      " 9   Общий доход в евро за год_кат  1253 non-null   category\n",
      "dtypes: category(4), float64(5), object(1)\n",
      "memory usage: 64.5+ KB\n"
     ]
    }
   ],
   "source": [
    "df_salary.info()"
   ]
  },
  {
   "cell_type": "code",
   "execution_count": 76,
   "id": "1a1e4511",
   "metadata": {},
   "outputs": [],
   "source": [
    "male_df = df_salary[(df_salary['Пол'] == 'Мужчина') & (df_salary['Возраст_кат'] == 'Средний')]\n",
    "# создаем новую переменную для сравнения"
   ]
  },
  {
   "cell_type": "code",
   "execution_count": 77,
   "id": "a594737f",
   "metadata": {},
   "outputs": [],
   "source": [
    "female_df = df_salary[(df_salary['Пол'] == 'Женщина') & (df_salary['Возраст_кат'] == 'Средний')]\n",
    "# создаем новую переменную для сравнения"
   ]
  },
  {
   "cell_type": "markdown",
   "id": "23616b6b",
   "metadata": {},
   "source": [
    "После заведения новых переменных и обработки данных переходим к изучению центральных тенденций и мерам разброса\n"
   ]
  },
  {
   "cell_type": "code",
   "execution_count": 78,
   "id": "a5dc5d5e",
   "metadata": {},
   "outputs": [
    {
     "data": {
      "text/plain": [
       "31.80925778132482"
      ]
     },
     "execution_count": 78,
     "metadata": {},
     "output_type": "execute_result"
    }
   ],
   "source": [
    "df_salary['Возраст'].sum() / len(df_salary['Возраст'])\n",
    "\n",
    "#считаем средний возраст респондентов"
   ]
  },
  {
   "cell_type": "code",
   "execution_count": 79,
   "id": "01e24131",
   "metadata": {},
   "outputs": [
    {
     "data": {
      "text/plain": [
       "<AxesSubplot:>"
      ]
     },
     "execution_count": 79,
     "metadata": {},
     "output_type": "execute_result"
    },
    {
     "data": {
      "image/png": "[encoded data removed]",
      "text/plain": [
       "<Figure size 432x288 with 1 Axes>"
      ]
     },
     "metadata": {
      "needs_background": "light"
     },
     "output_type": "display_data"
    }
   ],
   "source": [
    "df_salary['Возраст'].hist(bins=1000)\n",
    "#визуализируем распределние по возрастам"
   ]
  },
  {
   "cell_type": "code",
   "execution_count": 80,
   "id": "8eaf3bdb",
   "metadata": {},
   "outputs": [
    {
     "name": "stdout",
     "output_type": "stream",
     "text": [
      "32.50978792822186\n",
      "32.0\n",
      "0   30.0000\n",
      "Name: Возраст, dtype: float64\n"
     ]
    }
   ],
   "source": [
    "print(df_salary['Возраст'].mean())\n",
    "print(df_salary['Возраст'].median())\n",
    "print(df_salary['Возраст'].mode())\n",
    "\n",
    "#определяем меры центральной тенденции"
   ]
  },
  {
   "cell_type": "code",
   "execution_count": 81,
   "id": "bc6e032d",
   "metadata": {},
   "outputs": [
    {
     "data": {
      "text/html": [
       "<div>\n",
       "<style scoped>\n",
       "    .dataframe tbody tr th:only-of-type {\n",
       "        vertical-align: middle;\n",
       "    }\n",
       "\n",
       "    .dataframe tbody tr th {\n",
       "        vertical-align: top;\n",
       "    }\n",
       "\n",
       "    .dataframe thead th {\n",
       "        text-align: right;\n",
       "    }\n",
       "</style>\n",
       "<table border=\"1\" class=\"dataframe\">\n",
       "  <thead>\n",
       "    <tr style=\"text-align: right;\">\n",
       "      <th></th>\n",
       "      <th>Возраст</th>\n",
       "      <th>Лет опыта</th>\n",
       "      <th>Годовая зарплата в евро</th>\n",
       "      <th>Годовой бонус в евро</th>\n",
       "      <th>Общий доход за год в евро</th>\n",
       "    </tr>\n",
       "  </thead>\n",
       "  <tbody>\n",
       "    <tr>\n",
       "      <th>count</th>\n",
       "      <td>1226.0000</td>\n",
       "      <td>1236.0000</td>\n",
       "      <td>1252.0000</td>\n",
       "      <td>824.0000</td>\n",
       "      <td>1253.0000</td>\n",
       "    </tr>\n",
       "    <tr>\n",
       "      <th>mean</th>\n",
       "      <td>32.5098</td>\n",
       "      <td>9.0563</td>\n",
       "      <td>470958.7477</td>\n",
       "      <td>6089489.5673</td>\n",
       "      <td>4475163.4123</td>\n",
       "    </tr>\n",
       "    <tr>\n",
       "      <th>std</th>\n",
       "      <td>5.6638</td>\n",
       "      <td>11.8815</td>\n",
       "      <td>14128848.4692</td>\n",
       "      <td>174182510.8936</td>\n",
       "      <td>155374740.1575</td>\n",
       "    </tr>\n",
       "    <tr>\n",
       "      <th>min</th>\n",
       "      <td>20.0000</td>\n",
       "      <td>0.0000</td>\n",
       "      <td>10001.0000</td>\n",
       "      <td>0.0000</td>\n",
       "      <td>0.0000</td>\n",
       "    </tr>\n",
       "    <tr>\n",
       "      <th>25%</th>\n",
       "      <td>29.0000</td>\n",
       "      <td>5.0000</td>\n",
       "      <td>58600.0000</td>\n",
       "      <td>0.0000</td>\n",
       "      <td>60000.0000</td>\n",
       "    </tr>\n",
       "    <tr>\n",
       "      <th>50%</th>\n",
       "      <td>32.0000</td>\n",
       "      <td>8.0000</td>\n",
       "      <td>70000.0000</td>\n",
       "      <td>5000.0000</td>\n",
       "      <td>74000.0000</td>\n",
       "    </tr>\n",
       "    <tr>\n",
       "      <th>75%</th>\n",
       "      <td>35.0000</td>\n",
       "      <td>12.0000</td>\n",
       "      <td>80000.0000</td>\n",
       "      <td>20000.0000</td>\n",
       "      <td>91000.0000</td>\n",
       "    </tr>\n",
       "    <tr>\n",
       "      <th>max</th>\n",
       "      <td>69.0000</td>\n",
       "      <td>383.0000</td>\n",
       "      <td>500000000.0000</td>\n",
       "      <td>5000000000.0000</td>\n",
       "      <td>5500000000.0000</td>\n",
       "    </tr>\n",
       "  </tbody>\n",
       "</table>\n",
       "</div>"
      ],
      "text/plain": [
       "        Возраст  Лет опыта  Годовая зарплата в евро  Годовой бонус в евро  \\\n",
       "count 1226.0000  1236.0000                1252.0000              824.0000   \n",
       "mean    32.5098     9.0563              470958.7477          6089489.5673   \n",
       "std      5.6638    11.8815            14128848.4692        174182510.8936   \n",
       "min     20.0000     0.0000               10001.0000                0.0000   \n",
       "25%     29.0000     5.0000               58600.0000                0.0000   \n",
       "50%     32.0000     8.0000               70000.0000             5000.0000   \n",
       "75%     35.0000    12.0000               80000.0000            20000.0000   \n",
       "max     69.0000   383.0000           500000000.0000       5000000000.0000   \n",
       "\n",
       "       Общий доход за год в евро  \n",
       "count                  1253.0000  \n",
       "mean                4475163.4123  \n",
       "std               155374740.1575  \n",
       "min                       0.0000  \n",
       "25%                   60000.0000  \n",
       "50%                   74000.0000  \n",
       "75%                   91000.0000  \n",
       "max              5500000000.0000  "
      ]
     },
     "execution_count": 81,
     "metadata": {},
     "output_type": "execute_result"
    }
   ],
   "source": [
    "df_salary.describe()\n",
    "\n",
    "#определяем меры разброса"
   ]
  },
  {
   "cell_type": "code",
   "execution_count": 82,
   "id": "d5696ad0",
   "metadata": {},
   "outputs": [
    {
     "data": {
      "text/plain": [
       "Пол\n",
       "Другое      162000.0000\n",
       "Женщина   28711093.2552\n",
       "Мужчина      89259.5230\n",
       "Name: Общий доход за год в евро, dtype: float64"
      ]
     },
     "execution_count": 82,
     "metadata": {},
     "output_type": "execute_result"
    }
   ],
   "source": [
    "df_salary.groupby('Пол')['Общий доход за год в евро'].mean()\n",
    "#определяем среднее по группам"
   ]
  },
  {
   "cell_type": "code",
   "execution_count": 83,
   "id": "b5b6cbe8",
   "metadata": {},
   "outputs": [
    {
     "data": {
      "text/plain": [
       "Возраст_кат\n",
       "Взрослый            96423.4324\n",
       "Молодой          16637290.5546\n",
       "Очень Молодой       74401.6490\n",
       "Очень взрослый      93466.6667\n",
       "Средний             91716.9501\n",
       "Name: Общий доход за год в евро, dtype: float64"
      ]
     },
     "execution_count": 83,
     "metadata": {},
     "output_type": "execute_result"
    }
   ],
   "source": [
    "df_salary.groupby('Возраст_кат')['Общий доход за год в евро'].mean()\n",
    "#определяем среднее по группам"
   ]
  },
  {
   "cell_type": "code",
   "execution_count": 84,
   "id": "15c39c65",
   "metadata": {},
   "outputs": [
    {
     "data": {
      "text/plain": [
       "Пол\n",
       "Другое    1.0000\n",
       "Женщина   6.2368\n",
       "Мужчина   9.5877\n",
       "Name: Лет опыта, dtype: float64"
      ]
     },
     "execution_count": 84,
     "metadata": {},
     "output_type": "execute_result"
    }
   ],
   "source": [
    "df_salary.groupby('Пол')['Лет опыта'].mean()\n",
    "#определяем среднее по группам"
   ]
  },
  {
   "cell_type": "code",
   "execution_count": 85,
   "id": "3489d12a",
   "metadata": {},
   "outputs": [
    {
     "data": {
      "text/plain": [
       "Возраст_кат\n",
       "Взрослый         16.0591\n",
       "Молодой           5.1130\n",
       "Очень Молодой     3.0224\n",
       "Очень взрослый   58.8182\n",
       "Средний           9.4378\n",
       "Name: Лет опыта, dtype: float64"
      ]
     },
     "execution_count": 85,
     "metadata": {},
     "output_type": "execute_result"
    }
   ],
   "source": [
    "df_salary.groupby('Возраст_кат')['Лет опыта'].mean()\n",
    "#определяем среднее по группам"
   ]
  },
  {
   "cell_type": "code",
   "execution_count": 86,
   "id": "7613d704",
   "metadata": {},
   "outputs": [
    {
     "data": {
      "text/html": [
       "<div>\n",
       "<style scoped>\n",
       "    .dataframe tbody tr th:only-of-type {\n",
       "        vertical-align: middle;\n",
       "    }\n",
       "\n",
       "    .dataframe tbody tr th {\n",
       "        vertical-align: top;\n",
       "    }\n",
       "\n",
       "    .dataframe thead th {\n",
       "        text-align: right;\n",
       "    }\n",
       "</style>\n",
       "<table border=\"1\" class=\"dataframe\">\n",
       "  <thead>\n",
       "    <tr style=\"text-align: right;\">\n",
       "      <th></th>\n",
       "      <th>mean</th>\n",
       "      <th>median</th>\n",
       "    </tr>\n",
       "    <tr>\n",
       "      <th>Пол</th>\n",
       "      <th></th>\n",
       "      <th></th>\n",
       "    </tr>\n",
       "  </thead>\n",
       "  <tbody>\n",
       "    <tr>\n",
       "      <th>Другое</th>\n",
       "      <td>162000.0000</td>\n",
       "      <td>162000.0000</td>\n",
       "    </tr>\n",
       "    <tr>\n",
       "      <th>Женщина</th>\n",
       "      <td>28711093.2552</td>\n",
       "      <td>60000.0000</td>\n",
       "    </tr>\n",
       "    <tr>\n",
       "      <th>Мужчина</th>\n",
       "      <td>89259.5230</td>\n",
       "      <td>75000.0000</td>\n",
       "    </tr>\n",
       "  </tbody>\n",
       "</table>\n",
       "</div>"
      ],
      "text/plain": [
       "                 mean      median\n",
       "Пол                              \n",
       "Другое    162000.0000 162000.0000\n",
       "Женщина 28711093.2552  60000.0000\n",
       "Мужчина    89259.5230  75000.0000"
      ]
     },
     "execution_count": 86,
     "metadata": {},
     "output_type": "execute_result"
    }
   ],
   "source": [
    "df_salary.groupby('Пол')['Общий доход за год в евро'].agg(func=['mean', 'median'])\n",
    "#определяем среднее и медиану по группам"
   ]
  },
  {
   "cell_type": "code",
   "execution_count": 87,
   "id": "ab9504a3",
   "metadata": {},
   "outputs": [
    {
     "data": {
      "text/html": [
       "<div>\n",
       "<style scoped>\n",
       "    .dataframe tbody tr th:only-of-type {\n",
       "        vertical-align: middle;\n",
       "    }\n",
       "\n",
       "    .dataframe tbody tr th {\n",
       "        vertical-align: top;\n",
       "    }\n",
       "\n",
       "    .dataframe thead th {\n",
       "        text-align: right;\n",
       "    }\n",
       "</style>\n",
       "<table border=\"1\" class=\"dataframe\">\n",
       "  <thead>\n",
       "    <tr style=\"text-align: right;\">\n",
       "      <th></th>\n",
       "      <th>mean</th>\n",
       "      <th>median</th>\n",
       "    </tr>\n",
       "    <tr>\n",
       "      <th>Пол</th>\n",
       "      <th></th>\n",
       "      <th></th>\n",
       "    </tr>\n",
       "  </thead>\n",
       "  <tbody>\n",
       "    <tr>\n",
       "      <th>Другое</th>\n",
       "      <td>1.0000</td>\n",
       "      <td>1.0000</td>\n",
       "    </tr>\n",
       "    <tr>\n",
       "      <th>Женщина</th>\n",
       "      <td>6.2368</td>\n",
       "      <td>6.0000</td>\n",
       "    </tr>\n",
       "    <tr>\n",
       "      <th>Мужчина</th>\n",
       "      <td>9.5877</td>\n",
       "      <td>8.0000</td>\n",
       "    </tr>\n",
       "  </tbody>\n",
       "</table>\n",
       "</div>"
      ],
      "text/plain": [
       "          mean  median\n",
       "Пол                   \n",
       "Другое  1.0000  1.0000\n",
       "Женщина 6.2368  6.0000\n",
       "Мужчина 9.5877  8.0000"
      ]
     },
     "execution_count": 87,
     "metadata": {},
     "output_type": "execute_result"
    }
   ],
   "source": [
    "df_salary.groupby('Пол')['Лет опыта'].agg(func=['mean', 'median'])\n",
    "#определяем среднее и медиану по группам"
   ]
  },
  {
   "cell_type": "markdown",
   "id": "65a124b5",
   "metadata": {},
   "source": [
    "Переходим к расчету z-оценки"
   ]
  },
  {
   "cell_type": "code",
   "execution_count": 88,
   "id": "782dcc5e",
   "metadata": {},
   "outputs": [
    {
     "name": "stdout",
     "output_type": "stream",
     "text": [
      "85000.0 4475163.412274541 155312726.6885788\n",
      "-0.0282666044559076\n"
     ]
    }
   ],
   "source": [
    "X = df_salary['Общий доход за год в евро'][0] # извлекаем X — считаем z-оценку для первого студента\n",
    "M = df_salary['Общий доход за год в евро'].mean()\n",
    "sigma = df_salary['Общий доход за год в евро'].std(ddof=0)\n",
    "print(X, M, sigma)\n",
    "z_score = (X - M) / sigma\n",
    "print(z_score)"
   ]
  },
  {
   "cell_type": "code",
   "execution_count": 89,
   "id": "b43cda69",
   "metadata": {},
   "outputs": [],
   "source": [
    "female_df['z-score'] = scipy.stats.zscore(female_df['Общий доход за год в евро'])\n",
    "male_df['z-score'] = scipy.stats.zscore(male_df['Общий доход за год в евро'])"
   ]
  },
  {
   "cell_type": "code",
   "execution_count": 90,
   "id": "3ffa550a",
   "metadata": {},
   "outputs": [],
   "source": [
    "full = pd.concat([female_df, male_df])"
   ]
  },
  {
   "cell_type": "code",
   "execution_count": 91,
   "id": "5defd9e3",
   "metadata": {},
   "outputs": [
    {
     "data": {
      "text/plain": [
       "<AxesSubplot:>"
      ]
     },
     "execution_count": 91,
     "metadata": {},
     "output_type": "execute_result"
    },
    {
     "data": {
      "image/png": "[encoded data removed]",
      "text/plain": [
       "<Figure size 432x288 with 1 Axes>"
      ]
     },
     "metadata": {
      "needs_background": "light"
     },
     "output_type": "display_data"
    }
   ],
   "source": [
    "full['z-score'].hist()"
   ]
  },
  {
   "cell_type": "code",
   "execution_count": 92,
   "id": "a663b129",
   "metadata": {},
   "outputs": [
    {
     "data": {
      "text/html": [
       "<div>\n",
       "<style scoped>\n",
       "    .dataframe tbody tr th:only-of-type {\n",
       "        vertical-align: middle;\n",
       "    }\n",
       "\n",
       "    .dataframe tbody tr th {\n",
       "        vertical-align: top;\n",
       "    }\n",
       "\n",
       "    .dataframe thead th {\n",
       "        text-align: right;\n",
       "    }\n",
       "</style>\n",
       "<table border=\"1\" class=\"dataframe\">\n",
       "  <thead>\n",
       "    <tr style=\"text-align: right;\">\n",
       "      <th></th>\n",
       "      <th>Возраст</th>\n",
       "      <th>Пол</th>\n",
       "      <th>Должность</th>\n",
       "      <th>Лет опыта</th>\n",
       "      <th>Годовая зарплата в евро</th>\n",
       "      <th>Годовой бонус в евро</th>\n",
       "      <th>Возраст_кат</th>\n",
       "      <th>Лет опыта_кат</th>\n",
       "      <th>Общий доход за год в евро</th>\n",
       "      <th>Общий доход в евро за год_кат</th>\n",
       "      <th>z-score</th>\n",
       "    </tr>\n",
       "  </thead>\n",
       "  <tbody>\n",
       "    <tr>\n",
       "      <th>398</th>\n",
       "      <td>32.0000</td>\n",
       "      <td>Женщина</td>\n",
       "      <td>Data Scientist</td>\n",
       "      <td>4.0000</td>\n",
       "      <td>85000.0000</td>\n",
       "      <td>88000.0000</td>\n",
       "      <td>Средний</td>\n",
       "      <td>Мало опыта</td>\n",
       "      <td>173000.0000</td>\n",
       "      <td>Очень высокий доход</td>\n",
       "      <td>4.4504</td>\n",
       "    </tr>\n",
       "    <tr>\n",
       "      <th>922</th>\n",
       "      <td>38.0000</td>\n",
       "      <td>Женщина</td>\n",
       "      <td>Data Scientist</td>\n",
       "      <td>14.0000</td>\n",
       "      <td>70000.0000</td>\n",
       "      <td>75000.0000</td>\n",
       "      <td>Средний</td>\n",
       "      <td>Много опыта</td>\n",
       "      <td>145000.0000</td>\n",
       "      <td>Высокий доход</td>\n",
       "      <td>3.2484</td>\n",
       "    </tr>\n",
       "    <tr>\n",
       "      <th>279</th>\n",
       "      <td>39.0000</td>\n",
       "      <td>Мужчина</td>\n",
       "      <td>Product Manager</td>\n",
       "      <td>10.0000</td>\n",
       "      <td>120000.0000</td>\n",
       "      <td>200000.0000</td>\n",
       "      <td>Средний</td>\n",
       "      <td>Средний опыт</td>\n",
       "      <td>320000.0000</td>\n",
       "      <td>Очень высокий доход</td>\n",
       "      <td>3.3973</td>\n",
       "    </tr>\n",
       "    <tr>\n",
       "      <th>441</th>\n",
       "      <td>32.0000</td>\n",
       "      <td>Мужчина</td>\n",
       "      <td>CTO</td>\n",
       "      <td>10.0000</td>\n",
       "      <td>200000.0000</td>\n",
       "      <td>200000.0000</td>\n",
       "      <td>Средний</td>\n",
       "      <td>Средний опыт</td>\n",
       "      <td>400000.0000</td>\n",
       "      <td>Очень высокий доход</td>\n",
       "      <td>4.6073</td>\n",
       "    </tr>\n",
       "    <tr>\n",
       "      <th>494</th>\n",
       "      <td>39.0000</td>\n",
       "      <td>Мужчина</td>\n",
       "      <td>Manager</td>\n",
       "      <td>11.0000</td>\n",
       "      <td>180000.0000</td>\n",
       "      <td>150000.0000</td>\n",
       "      <td>Средний</td>\n",
       "      <td>Много опыта</td>\n",
       "      <td>330000.0000</td>\n",
       "      <td>Очень высокий доход</td>\n",
       "      <td>3.5486</td>\n",
       "    </tr>\n",
       "    <tr>\n",
       "      <th>564</th>\n",
       "      <td>30.0000</td>\n",
       "      <td>Мужчина</td>\n",
       "      <td>Data Engineer</td>\n",
       "      <td>5.0000</td>\n",
       "      <td>90000.0000</td>\n",
       "      <td>1150000.0000</td>\n",
       "      <td>Средний</td>\n",
       "      <td>Средний опыт</td>\n",
       "      <td>1240000.0000</td>\n",
       "      <td>Очень высокий доход</td>\n",
       "      <td>17.3120</td>\n",
       "    </tr>\n",
       "    <tr>\n",
       "      <th>574</th>\n",
       "      <td>38.0000</td>\n",
       "      <td>Мужчина</td>\n",
       "      <td>Freelance AI lead / advisor</td>\n",
       "      <td>20.0000</td>\n",
       "      <td>200000.0000</td>\n",
       "      <td>200000.0000</td>\n",
       "      <td>Средний</td>\n",
       "      <td>Очень опытный</td>\n",
       "      <td>400000.0000</td>\n",
       "      <td>Очень высокий доход</td>\n",
       "      <td>4.6073</td>\n",
       "    </tr>\n",
       "    <tr>\n",
       "      <th>745</th>\n",
       "      <td>35.0000</td>\n",
       "      <td>Мужчина</td>\n",
       "      <td>Software Engineer</td>\n",
       "      <td>13.0000</td>\n",
       "      <td>103000.0000</td>\n",
       "      <td>200000.0000</td>\n",
       "      <td>Средний</td>\n",
       "      <td>Много опыта</td>\n",
       "      <td>303000.0000</td>\n",
       "      <td>Очень высокий доход</td>\n",
       "      <td>3.1402</td>\n",
       "    </tr>\n",
       "    <tr>\n",
       "      <th>966</th>\n",
       "      <td>35.0000</td>\n",
       "      <td>Мужчина</td>\n",
       "      <td>Data Engineer</td>\n",
       "      <td>6.0000</td>\n",
       "      <td>200000.0000</td>\n",
       "      <td>200000.0000</td>\n",
       "      <td>Средний</td>\n",
       "      <td>Средний опыт</td>\n",
       "      <td>400000.0000</td>\n",
       "      <td>Очень высокий доход</td>\n",
       "      <td>4.6073</td>\n",
       "    </tr>\n",
       "  </tbody>\n",
       "</table>\n",
       "</div>"
      ],
      "text/plain": [
       "     Возраст      Пол                    Должность  Лет опыта  \\\n",
       "398  32.0000  Женщина               Data Scientist     4.0000   \n",
       "922  38.0000  Женщина               Data Scientist    14.0000   \n",
       "279  39.0000  Мужчина              Product Manager    10.0000   \n",
       "441  32.0000  Мужчина                          CTO    10.0000   \n",
       "494  39.0000  Мужчина                      Manager    11.0000   \n",
       "564  30.0000  Мужчина                Data Engineer     5.0000   \n",
       "574  38.0000  Мужчина  Freelance AI lead / advisor    20.0000   \n",
       "745  35.0000  Мужчина            Software Engineer    13.0000   \n",
       "966  35.0000  Мужчина                Data Engineer     6.0000   \n",
       "\n",
       "     Годовая зарплата в евро  Годовой бонус в евро Возраст_кат  Лет опыта_кат  \\\n",
       "398               85000.0000            88000.0000     Средний     Мало опыта   \n",
       "922               70000.0000            75000.0000     Средний    Много опыта   \n",
       "279              120000.0000           200000.0000     Средний   Средний опыт   \n",
       "441              200000.0000           200000.0000     Средний   Средний опыт   \n",
       "494              180000.0000           150000.0000     Средний    Много опыта   \n",
       "564               90000.0000          1150000.0000     Средний   Средний опыт   \n",
       "574              200000.0000           200000.0000     Средний  Очень опытный   \n",
       "745              103000.0000           200000.0000     Средний    Много опыта   \n",
       "966              200000.0000           200000.0000     Средний   Средний опыт   \n",
       "\n",
       "     Общий доход за год в евро Общий доход в евро за год_кат  z-score  \n",
       "398                173000.0000           Очень высокий доход   4.4504  \n",
       "922                145000.0000                 Высокий доход   3.2484  \n",
       "279                320000.0000           Очень высокий доход   3.3973  \n",
       "441                400000.0000           Очень высокий доход   4.6073  \n",
       "494                330000.0000           Очень высокий доход   3.5486  \n",
       "564               1240000.0000           Очень высокий доход  17.3120  \n",
       "574                400000.0000           Очень высокий доход   4.6073  \n",
       "745                303000.0000           Очень высокий доход   3.1402  \n",
       "966                400000.0000           Очень высокий доход   4.6073  "
      ]
     },
     "execution_count": 92,
     "metadata": {},
     "output_type": "execute_result"
    }
   ],
   "source": [
    "full[full['z-score'] > 3]\n",
    "#определяем выбросы"
   ]
  },
  {
   "cell_type": "code",
   "execution_count": 93,
   "id": "3f4935d8",
   "metadata": {},
   "outputs": [],
   "source": [
    "full=full[full['z-score'] < 3]\n",
    "#избавляемся от выбросов"
   ]
  },
  {
   "cell_type": "markdown",
   "id": "cc3517f3",
   "metadata": {},
   "source": [
    "Переходим к расчету корреляций"
   ]
  },
  {
   "cell_type": "code",
   "execution_count": 94,
   "id": "e403f99b",
   "metadata": {},
   "outputs": [
    {
     "data": {
      "text/plain": [
       "0.29423100386282486"
      ]
     },
     "execution_count": 94,
     "metadata": {},
     "output_type": "execute_result"
    }
   ],
   "source": [
    "full['Лет опыта'].corr(full['Общий доход за год в евро'])"
   ]
  },
  {
   "cell_type": "code",
   "execution_count": 95,
   "id": "cab5fac8",
   "metadata": {},
   "outputs": [
    {
     "data": {
      "image/png": "[encoded data removed]",
      "text/plain": [
       "<Figure size 432x288 with 1 Axes>"
      ]
     },
     "metadata": {
      "needs_background": "light"
     },
     "output_type": "display_data"
    }
   ],
   "source": [
    "full.plot('Общий доход за год в евро','Лет опыта', kind='scatter')\n",
    "plt.ticklabel_format(style='plain')\n",
    "plt.ticklabel_format(useOffset=False)\n",
    "#визуализируем "
   ]
  },
  {
   "cell_type": "markdown",
   "id": "165b0427",
   "metadata": {},
   "source": [
    "Переходим к визуализации данных"
   ]
  },
  {
   "cell_type": "code",
   "execution_count": 96,
   "id": "a20df54a",
   "metadata": {},
   "outputs": [
    {
     "data": {
      "text/plain": [
       "Пол\n",
       "Другое           NaN\n",
       "Женщина   67652.9439\n",
       "Мужчина   90851.4219\n",
       "Name: Общий доход за год в евро, dtype: float64"
      ]
     },
     "execution_count": 96,
     "metadata": {},
     "output_type": "execute_result"
    }
   ],
   "source": [
    "gender_sallary = full.groupby(full['Пол'])['Общий доход за год в евро'].mean()\n",
    "gender_sallary"
   ]
  },
  {
   "cell_type": "code",
   "execution_count": 97,
   "id": "f7baf7a0",
   "metadata": {},
   "outputs": [
    {
     "data": {
      "text/plain": [
       "<BarContainer object of 3 artists>"
      ]
     },
     "execution_count": 97,
     "metadata": {},
     "output_type": "execute_result"
    },
    {
     "data": {
      "image/png": "[encoded data removed]",
      "text/plain": [
       "<Figure size 720x432 with 1 Axes>"
      ]
     },
     "metadata": {
      "needs_background": "light"
     },
     "output_type": "display_data"
    }
   ],
   "source": [
    "fig, ax = plt.subplots(figsize=(10,6))\n",
    "\n",
    "ax.bar(gender_sallary.index, gender_sallary)"
   ]
  },
  {
   "cell_type": "code",
   "execution_count": 98,
   "id": "706ec1c0",
   "metadata": {},
   "outputs": [
    {
     "data": {
      "text/plain": [
       "Пол\n",
       "Другое       NaN\n",
       "Женщина   7.0236\n",
       "Мужчина   9.8652\n",
       "Name: Лет опыта, dtype: float64"
      ]
     },
     "execution_count": 98,
     "metadata": {},
     "output_type": "execute_result"
    }
   ],
   "source": [
    "exp_sallary = full.groupby(full['Пол'])['Лет опыта'].mean()\n",
    "exp_sallary"
   ]
  },
  {
   "cell_type": "code",
   "execution_count": 99,
   "id": "62fb8398",
   "metadata": {
    "scrolled": true
   },
   "outputs": [
    {
     "data": {
      "text/plain": [
       "<BarContainer object of 3 artists>"
      ]
     },
     "execution_count": 99,
     "metadata": {},
     "output_type": "execute_result"
    },
    {
     "data": {
      "image/png": "[encoded data removed]",
      "text/plain": [
       "<Figure size 720x432 with 1 Axes>"
      ]
     },
     "metadata": {
      "needs_background": "light"
     },
     "output_type": "display_data"
    }
   ],
   "source": [
    "fig, ax = plt.subplots(figsize=(10,6))\n",
    "\n",
    "ax.bar(exp_sallary.index, exp_sallary)"
   ]
  },
  {
   "cell_type": "code",
   "execution_count": 100,
   "id": "c6f76afd",
   "metadata": {
    "scrolled": true
   },
   "outputs": [
    {
     "data": {
      "text/plain": [
       "[<matplotlib.lines.Line2D at 0x7ff6df310700>]"
      ]
     },
     "execution_count": 100,
     "metadata": {},
     "output_type": "execute_result"
    },
    {
     "data": {
      "image/png": "[encoded data removed]",
      "text/plain": [
       "<Figure size 1440x576 with 1 Axes>"
      ]
     },
     "metadata": {
      "needs_background": "light"
     },
     "output_type": "display_data"
    }
   ],
   "source": [
    "fig, ax = plt.subplots(figsize=(20,8))\n",
    "\n",
    "ax.plot(full.groupby(['Лет опыта_кат', 'Лет опыта'])['Общий доход за год в евро'].mean().loc['Мало опыта'])\n",
    "ax.plot(full.groupby(['Лет опыта_кат', 'Лет опыта'])['Общий доход за год в евро'].mean().loc['Много опыта'])\n",
    "ax.plot(full.groupby(['Лет опыта_кат', 'Лет опыта'])['Общий доход за год в евро'].mean().loc['Очень мало опыта'])\n",
    "ax.plot(full.groupby(['Лет опыта_кат', 'Лет опыта'])['Общий доход за год в евро'].mean().loc['Очень опытный'])\n",
    "ax.plot(full.groupby(['Лет опыта_кат', 'Лет опыта'])['Общий доход за год в евро'].mean().loc['Средний опыт'])"
   ]
  },
  {
   "cell_type": "code",
   "execution_count": 101,
   "id": "94082627",
   "metadata": {},
   "outputs": [
    {
     "data": {
      "image/png": "[encoded data removed]",
      "text/plain": [
       "<Figure size 1440x720 with 2 Axes>"
      ]
     },
     "metadata": {
      "needs_background": "light"
     },
     "output_type": "display_data"
    }
   ],
   "source": [
    "fig, ax = plt.subplots(1,2, figsize=(20,10))\n",
    "\n",
    "ax[0].plot(full.groupby(['Пол', 'Возраст'])['Общий доход за год в евро'].mean().loc['Женщина'], c='#ff8c69')\n",
    "ax[1].plot(full.groupby(['Пол', 'Возраст'])['Общий доход за год в евро'].mean().loc['Мужчина'], c='#ff8c69')\n",
    "\n",
    "for axis,gender in zip(ax.ravel(), ['Женщина', 'Мужчина']):\n",
    "    axis.set_xlabel('Возраст', fontsize=14)\n",
    "    axis.set_ylabel('Общий доход за год в евро', fontsize=14)\n",
    "    axis.spines['right'].set_visible(False)\n",
    "    axis.spines['top'].set_visible(False)\n",
    "    axis.spines['left'].set_linewidth(0.2)\n",
    "    axis.spines['bottom'].set_linewidth(0.2)\n",
    "    axis.xaxis.set_tick_params(width=0.2)\n",
    "    axis.yaxis.set_tick_params(width=0.2)\n",
    "    axis.legend([gender], frameon=False, loc=2)\n",
    "\n",
    "        \n",
    "fig.suptitle('Зарплаты за год по возрасту и полу', fontsize=20)\n",
    "fig.savefig('temps.pdf')\n",
    "fig.savefig('temps.png', dpi=100)"
   ]
  },
  {
   "cell_type": "markdown",
   "id": "b3be02bb",
   "metadata": {},
   "source": [
    "Вывод: согласно исследованию данных, мужчины среднего возраста более опытны и больше зарабатывают, чем женщины этого же возраста"
   ]
  }
 ],
 "metadata": {
  "kernelspec": {
   "display_name": "Python 3 (ipykernel)",
   "language": "python",
   "name": "python3"
  },
  "language_info": {
   "codemirror_mode": {
    "name": "ipython",
    "version": 3
   },
   "file_extension": ".py",
   "mimetype": "text/x-python",
   "name": "python",
   "nbconvert_exporter": "python",
   "pygments_lexer": "ipython3",
   "version": "3.9.12"
  }
 },
 "nbformat": 4,
 "nbformat_minor": 5
}
